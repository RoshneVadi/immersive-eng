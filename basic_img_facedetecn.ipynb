{
 "cells": [
  {
   "cell_type": "code",
   "execution_count": 1,
   "id": "c51bb165-4e9f-4f71-b5a2-9878507bfec1",
   "metadata": {},
   "outputs": [
    {
     "name": "stdout",
     "output_type": "stream",
     "text": [
      "Requirement already satisfied: opencv-python in c:\\users\\roshn\\anaconda3\\lib\\site-packages (4.10.0.82)Note: you may need to restart the kernel to use updated packages.\n",
      "\n",
      "Requirement already satisfied: numpy>=1.21.2 in c:\\users\\roshn\\anaconda3\\lib\\site-packages (from opencv-python) (1.26.4)\n"
     ]
    }
   ],
   "source": [
    "pip install opencv-python\n"
   ]
  },
  {
   "cell_type": "code",
   "execution_count": 15,
   "id": "e945801c-3acb-452d-a979-382ccab38982",
   "metadata": {},
   "outputs": [],
   "source": [
    "import cv2\n",
    "\n",
    "# Load the pre-trained Haar Cascade Classifier for face detection\n",
    "#cascadeclassifier is a class\n",
    "face_cascade = cv2.CascadeClassifier(cv2.data.haarcascades + 'haarcascade_frontalface_default.xml')\n",
    "\n",
    "# Read the input image\n",
    "image = cv2.imread(\"C:/Users/roshn/OneDrive/Desktop/facedetec.jpeg\")\n",
    "\n",
    "# Convert the image to grayscale\n",
    "gray = cv2.cvtColor(image, cv2.COLOR_BGR2GRAY)\n",
    "\n",
    "# Detect faces in the image\n",
    "#scaleFactor: This parameter determines how much the image size is reduced at each level of the pyramid.\n",
    "#candidate rectangeles-several overlapping regions (rectangles) as potential faces;detection is considered more reliable if multiple candidate rectangles (neighbors) overlap significantly at the same location.\n",
    "#higher minNeighbors value means that only regions where multiple candidate rectangles overlap significantly will be considered as faces. This reduces false positives but may also miss some faces.\n",
    "faces = face_cascade.detectMultiScale(gray, scaleFactor=1.1, minNeighbors=5, minSize=(30, 30))\n",
    "\n",
    "#detectMultiScale method returns a list of rectangles where it found faces, as a tuple of 4 variables (x,y,w,h)\n",
    "# Draw rectangles around the detected faces\n",
    "#(255, 0, 0): The color of the rectangle in BGR\n",
    "#2: The thickness of the rectangle's border.\n",
    "for (x, y, w, h) in faces:\n",
    "    cv2.rectangle(image, (x, y), (x+w, y+h), (255, 0, 0), 2)\n",
    "\n",
    "# Display the output image\n",
    "cv2.imshow('Face Detection', image)\n",
    "#0: Waits indefinitely for a key press. The program will pause here until any key is pressed.(nos in millisec)\n",
    "cv2.waitKey(0)\n",
    "cv2.destroyAllWindows()\n"
   ]
  },
  {
   "cell_type": "code",
   "execution_count": null,
   "id": "7b2e5ac5-aac1-4ede-a0dd-ea871aa5ced7",
   "metadata": {},
   "outputs": [],
   "source": []
  }
 ],
 "metadata": {
  "kernelspec": {
   "display_name": "Python 3 (ipykernel)",
   "language": "python",
   "name": "python3"
  },
  "language_info": {
   "codemirror_mode": {
    "name": "ipython",
    "version": 3
   },
   "file_extension": ".py",
   "mimetype": "text/x-python",
   "name": "python",
   "nbconvert_exporter": "python",
   "pygments_lexer": "ipython3",
   "version": "3.11.7"
  }
 },
 "nbformat": 4,
 "nbformat_minor": 5
}
